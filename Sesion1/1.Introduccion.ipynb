{
 "cells": [
  {
   "cell_type": "markdown",
   "metadata": {},
   "source": [
    "### indentacion ### "
   ]
  },
  {
   "cell_type": "code",
   "execution_count": 2,
   "metadata": {},
   "outputs": [
    {
     "name": "stdout",
     "output_type": "stream",
     "text": [
      "Hola mundo\n"
     ]
    }
   ],
   "source": [
    "condicional=13\n",
    "if condicional==13:\n",
    "    print(\"Hola mundo\")\n",
    "\n"
   ]
  },
  {
   "cell_type": "markdown",
   "metadata": {},
   "source": [
    "# comentarios #\n",
    "''' Comentarios Docstr '''"
   ]
  },
  {
   "cell_type": "code",
   "execution_count": 1,
   "metadata": {},
   "outputs": [
    {
     "name": "stdout",
     "output_type": "stream",
     "text": [
      "5\n"
     ]
    }
   ],
   "source": [
    "# Variable \n",
    "var1=''\n",
    "var2=5\n",
    "var3=\"Datapath\"\n",
    "\n",
    "print(var2)"
   ]
  },
  {
   "cell_type": "code",
   "execution_count": 3,
   "metadata": {},
   "outputs": [
    {
     "name": "stdout",
     "output_type": "stream",
     "text": [
      "<class 'str'>\n",
      "<class 'int'>\n",
      "<class 'str'>\n"
     ]
    }
   ],
   "source": [
    "print(type(var1))\n",
    "print(type(var2))\n",
    "print(type(var3))"
   ]
  },
  {
   "cell_type": "code",
   "execution_count": 5,
   "metadata": {},
   "outputs": [
    {
     "name": "stdout",
     "output_type": "stream",
     "text": [
      "[1, 2, 3, 4, 7]\n"
     ]
    }
   ],
   "source": [
    "list =[1,2,3,4,5]\n",
    "\n",
    "list[4]=7\n",
    "print(list)"
   ]
  },
  {
   "cell_type": "code",
   "execution_count": 6,
   "metadata": {},
   "outputs": [
    {
     "name": "stdout",
     "output_type": "stream",
     "text": [
      "[1, 2, 3, 4, 7, 5]\n"
     ]
    }
   ],
   "source": [
    "list.append(5)\n",
    "print(list)"
   ]
  },
  {
   "cell_type": "code",
   "execution_count": 7,
   "metadata": {},
   "outputs": [
    {
     "name": "stdout",
     "output_type": "stream",
     "text": [
      "[1, 2, 3, 4, 7, 5, 1, 3, 5]\n"
     ]
    }
   ],
   "source": [
    "list.extend([1,3,5])\n",
    "print(list)"
   ]
  },
  {
   "cell_type": "code",
   "execution_count": 9,
   "metadata": {},
   "outputs": [
    {
     "name": "stdout",
     "output_type": "stream",
     "text": [
      "1\n",
      "2\n",
      "3\n",
      "4\n",
      "7\n",
      "5\n",
      "1\n",
      "3\n",
      "5\n"
     ]
    }
   ],
   "source": [
    "for item in list:\n",
    "    print(item)\n"
   ]
  },
  {
   "cell_type": "code",
   "execution_count": 2,
   "metadata": {},
   "outputs": [
    {
     "name": "stdout",
     "output_type": "stream",
     "text": [
      "Lista original: [1, 2, 2, 3, 4, 4, 5]\n",
      "Lista sin duplicados: [1, 2, 3, 4, 5]\n"
     ]
    }
   ],
   "source": [
    "# 1. Eliminar duplicados de una lista\n",
    "def eliminar_duplicados(lista):\n",
    "    return list(set(lista))\n",
    "\n",
    "# Ejemplo de uso\n",
    "lista_con_duplicados = [1, 2, 2, 3, 4, 4, 5]\n",
    "lista_sin_duplicados = eliminar_duplicados(lista_con_duplicados)\n",
    "print(\"Lista original:\", lista_con_duplicados)\n",
    "print(\"Lista sin duplicados:\", lista_sin_duplicados)"
   ]
  },
  {
   "cell_type": "code",
   "execution_count": 3,
   "metadata": {},
   "outputs": [
    {
     "name": "stdout",
     "output_type": "stream",
     "text": [
      "El elemento 3 está en la lista.\n"
     ]
    }
   ],
   "source": [
    "def buscar_elemento(lista, elemento):\n",
    "    return elemento in lista\n",
    "\n",
    "# Ejemplo de uso\n",
    "lista = [1, 2, 3, 4, 5]\n",
    "elemento = 3\n",
    "encontrado = buscar_elemento(lista, elemento)\n",
    "print(f\"El elemento {elemento} {'está' if encontrado else 'no está'} en la lista.\")\n"
   ]
  },
  {
   "cell_type": "code",
   "execution_count": 11,
   "metadata": {},
   "outputs": [
    {
     "name": "stdout",
     "output_type": "stream",
     "text": [
      "El factorial de 7 es: 5040\n"
     ]
    }
   ],
   "source": [
    "# 3. Calcular factorial de un número\n",
    "def factorial(n):\n",
    "    if n < 0:\n",
    "        return \"El factorial no está definido para números negativos\"\n",
    "    if n == 0 or n == 1:\n",
    "        return 1\n",
    "    return n * factorial(n - 1)\n",
    "\n",
    "# Ejemplo de uso\n",
    "numero =7\n",
    "print(f\"El factorial de {numero} es: {factorial(numero)}\")"
   ]
  },
  {
   "cell_type": "code",
   "execution_count": 12,
   "metadata": {},
   "outputs": [
    {
     "name": "stdout",
     "output_type": "stream",
     "text": [
      "La suma de los números pares del 1 al 100 es: 2550\n"
     ]
    }
   ],
   "source": [
    "def suma_pares():\n",
    "    return sum(num for num in range(1, 101) if num % 2 == 0)\n",
    "\n",
    "\n",
    "resultado = suma_pares()\n",
    "print(\"La suma de los números pares del 1 al 100 es:\", resultado)\n"
   ]
  }
 ],
 "metadata": {
  "kernelspec": {
   "display_name": "Python 3",
   "language": "python",
   "name": "python3"
  },
  "language_info": {
   "codemirror_mode": {
    "name": "ipython",
    "version": 3
   },
   "file_extension": ".py",
   "mimetype": "text/x-python",
   "name": "python",
   "nbconvert_exporter": "python",
   "pygments_lexer": "ipython3",
   "version": "3.12.1"
  }
 },
 "nbformat": 4,
 "nbformat_minor": 2
}
